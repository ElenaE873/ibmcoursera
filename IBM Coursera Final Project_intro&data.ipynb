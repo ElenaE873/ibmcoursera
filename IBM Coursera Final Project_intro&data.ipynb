{
 "cells": [
  {
   "cell_type": "markdown",
   "metadata": {},
   "source": [
    "# IBM Capstone Course Final Project"
   ]
  },
  {
   "cell_type": "markdown",
   "metadata": {},
   "source": [
    "## Introduction to Business Problem"
   ]
  },
  {
   "cell_type": "markdown",
   "metadata": {},
   "source": [
    "Essential businesses such as grocery stores, markets, pharmacies, hospitals, etcetera, can aid in resource distribution during the fluid environment of the COVID-19 year. \n",
    "\n",
    "This project will aim to examine clusters of essential business in the state of Michigan.  The scope is to determine which cities and counties have better access to these essential business (by proximity to the cluster densities of these essential businesses), and which ones do not (by the lack of close proximity to the clusters of essential businesses). "
   ]
  },
  {
   "cell_type": "markdown",
   "metadata": {},
   "source": [
    "## Data"
   ]
  },
  {
   "cell_type": "markdown",
   "metadata": {},
   "source": [
    "Two set of excel worksheets will be loaded.\n",
    "1 - A set of Zipcode, City, and County data compiled from the following website: https://www.zipcodestogo.com/Michigan/\n",
    "2 - A set of Zipcode, Latitude and Longitude data compiled from the following github page: https://gist.github.com/erichurst/7882666\n",
    "\n",
    "These two sets of data will be the foundation for building the final table which will be linked to the Foursquare API venue data, on which K-means will be built on."
   ]
  }
 ],
 "metadata": {
  "kernelspec": {
   "display_name": "Python 3",
   "language": "python",
   "name": "python3"
  },
  "language_info": {
   "codemirror_mode": {
    "name": "ipython",
    "version": 3
   },
   "file_extension": ".py",
   "mimetype": "text/x-python",
   "name": "python",
   "nbconvert_exporter": "python",
   "pygments_lexer": "ipython3",
   "version": "3.7.6"
  }
 },
 "nbformat": 4,
 "nbformat_minor": 4
}
